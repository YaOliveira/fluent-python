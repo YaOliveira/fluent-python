{
 "cells": [
  {
   "cell_type": "markdown",
   "metadata": {},
   "source": [
    "# Data Structured"
   ]
  },
  {
   "cell_type": "markdown",
   "metadata": {},
   "source": [
    "## An Array of Sequences\n",
    "\n",
    "### Container Sequences:\n",
    "    - list, tuple, collections.deque\n",
    "### Flat Sequences:\n",
    "    - str, bytes, bytearray, memoryview, array.array\n",
    "    \n",
    "Flat sequences are more compact, but they are limited to holding primitive values like characters, bytes and numbers.\n",
    "\n",
    "### Mutable sequences:\n",
    "    - list, bytearray, array.array, collections.deque and memoryview\n",
    "### Immutable sequences:\n",
    "    - tuple, str and bytes"
   ]
  },
  {
   "cell_type": "markdown",
   "metadata": {},
   "source": [
    "## List comprehension and Readability"
   ]
  },
  {
   "cell_type": "code",
   "execution_count": 2,
   "metadata": {},
   "outputs": [
    {
     "data": {
      "text/plain": [
       "[36, 162, 163, 165, 8364, 164]"
      ]
     },
     "execution_count": 2,
     "metadata": {},
     "output_type": "execute_result"
    }
   ],
   "source": [
    "# Building a list of Unicode codepoints from a string\n",
    "symbols = '$¢£¥€¤'\n",
    "codes = []\n",
    "for symbol in symbols:\n",
    "    codes.append(ord(symbol))\n",
    "codes"
   ]
  },
  {
   "cell_type": "code",
   "execution_count": 5,
   "metadata": {},
   "outputs": [],
   "source": [
    "# Do the same code above with list comprehensions\n",
    "symbols = '$¢£¥€¤'\n",
    "my_codes = [ ord(symbol) for symbol in symbols ]\n",
    "assert codes == my_codes"
   ]
  },
  {
   "cell_type": "markdown",
   "metadata": {},
   "source": [
    "## Values inside list comprehensions don't leak"
   ]
  },
  {
   "cell_type": "code",
   "execution_count": 6,
   "metadata": {},
   "outputs": [
    {
     "name": "stdout",
     "output_type": "stream",
     "text": [
      "ABC [65, 66, 67]\n"
     ]
    }
   ],
   "source": [
    "x = 'ABC'\n",
    "dummy = [ ord(x) for x in x]\n",
    "print(x, dummy)"
   ]
  },
  {
   "cell_type": "markdown",
   "metadata": {},
   "source": [
    "## Listcomp vs map+filter"
   ]
  },
  {
   "cell_type": "code",
   "execution_count": 13,
   "metadata": {},
   "outputs": [],
   "source": [
    "symbols = '$¢£¥€¤'\n",
    "\n",
    "beyond_ascii_c = [ ord(s) for s in symbols if ord(s) > 127]\n",
    "beyond_ascii_f = list(filter(lambda c: c > 127, map(ord, symbols)))\n",
    "\n",
    "assert beyond_ascii_c == beyond_ascii_f"
   ]
  },
  {
   "cell_type": "markdown",
   "metadata": {},
   "source": [
    "## Cartesian Products"
   ]
  },
  {
   "cell_type": "markdown",
   "metadata": {},
   "source": [
    "### List comprehensions are an easy way to _hardcode_ a cartesian product between two or more iterables (and impress your recruiter). Of course there should be native libraries to do this, but doesn't hurt to learn the _raw way_."
   ]
  },
  {
   "cell_type": "markdown",
   "metadata": {},
   "source": [
    "### Let's produce a list of T-shirts available in two colors and three sizes."
   ]
  },
  {
   "cell_type": "code",
   "execution_count": 18,
   "metadata": {},
   "outputs": [
    {
     "name": "stdout",
     "output_type": "stream",
     "text": [
      "[('black', 'S'), ('black', 'M'), ('black', 'L'), ('white', 'S'), ('white', 'M'), ('white', 'L')]\n"
     ]
    }
   ],
   "source": [
    "colors = ['black', 'white']\n",
    "sizes = ['S', 'M', 'L']\n",
    "tshirts = [(color, size) for color in colors for size in sizes]\n",
    "print(tshirts)"
   ]
  },
  {
   "cell_type": "code",
   "execution_count": 19,
   "metadata": {},
   "outputs": [
    {
     "name": "stdout",
     "output_type": "stream",
     "text": [
      "[('black', 'S'), ('black', 'M'), ('black', 'L'), ('white', 'S'), ('white', 'M'), ('white', 'L')]\n"
     ]
    }
   ],
   "source": [
    "# That's equivalent to good ol' for-loop below\n",
    "tshirts2 = []\n",
    "for color in colors:\n",
    "    for size in sizes:\n",
    "        tshirts2.append((color, size))\n",
    "print(tshirts2)"
   ]
  },
  {
   "cell_type": "code",
   "execution_count": 20,
   "metadata": {},
   "outputs": [
    {
     "name": "stdout",
     "output_type": "stream",
     "text": [
      "[('black', 'S'), ('black', 'M'), ('black', 'L'), ('white', 'S'), ('white', 'M'), ('white', 'L')]\n"
     ]
    }
   ],
   "source": [
    "# Liscomps can also be done like that\n",
    "tshirts3 = [(color, size) for color in colors\n",
    "                         for size in sizes]\n",
    "print(tshirts3)\n",
    "assert tshirts == tshirts2 == tshirts3"
   ]
  },
  {
   "cell_type": "code",
   "execution_count": null,
   "metadata": {},
   "outputs": [],
   "source": []
  }
 ],
 "metadata": {
  "kernelspec": {
   "display_name": "Python 3",
   "language": "python",
   "name": "python3"
  },
  "language_info": {
   "codemirror_mode": {
    "name": "ipython",
    "version": 3
   },
   "file_extension": ".py",
   "mimetype": "text/x-python",
   "name": "python",
   "nbconvert_exporter": "python",
   "pygments_lexer": "ipython3",
   "version": "3.6.9"
  }
 },
 "nbformat": 4,
 "nbformat_minor": 4
}
